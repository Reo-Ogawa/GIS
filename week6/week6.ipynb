{
 "cells": [
  {
   "cell_type": "code",
   "execution_count": 1,
   "metadata": {},
   "outputs": [],
   "source": [
    "import pandas as pd\n",
    "import folium\n",
    "import matplotlib.pyplot as plt"
   ]
  },
  {
   "cell_type": "code",
   "execution_count": 3,
   "metadata": {},
   "outputs": [],
   "source": [
    "df = pd.read_csv('a.csv')"
   ]
  },
  {
   "cell_type": "code",
   "execution_count": 4,
   "metadata": {},
   "outputs": [
    {
     "data": {
      "text/html": [
       "<div>\n",
       "<style scoped>\n",
       "    .dataframe tbody tr th:only-of-type {\n",
       "        vertical-align: middle;\n",
       "    }\n",
       "\n",
       "    .dataframe tbody tr th {\n",
       "        vertical-align: top;\n",
       "    }\n",
       "\n",
       "    .dataframe thead th {\n",
       "        text-align: right;\n",
       "    }\n",
       "</style>\n",
       "<table border=\"1\" class=\"dataframe\">\n",
       "  <thead>\n",
       "    <tr style=\"text-align: right;\">\n",
       "      <th></th>\n",
       "      <th>name</th>\n",
       "      <th>description</th>\n",
       "      <th>latitude</th>\n",
       "      <th>longitude</th>\n",
       "      <th>color</th>\n",
       "    </tr>\n",
       "  </thead>\n",
       "  <tbody>\n",
       "    <tr>\n",
       "      <th>0</th>\n",
       "      <td>アラモアナショッピングセンター</td>\n",
       "      <td>この中にあるウルフギャングステーキハウスが美味しい</td>\n",
       "      <td>21.291945</td>\n",
       "      <td>-157.843517</td>\n",
       "      <td>green</td>\n",
       "    </tr>\n",
       "    <tr>\n",
       "      <th>1</th>\n",
       "      <td>ハイアットリージェンシー</td>\n",
       "      <td>いつも宿泊しているホテル</td>\n",
       "      <td>21.279277</td>\n",
       "      <td>-157.826200</td>\n",
       "      <td>darkred</td>\n",
       "    </tr>\n",
       "    <tr>\n",
       "      <th>2</th>\n",
       "      <td>チーズケーキファクトリー</td>\n",
       "      <td>一番好きなチーズケーキ屋さん</td>\n",
       "      <td>21.277837</td>\n",
       "      <td>-157.827771</td>\n",
       "      <td>green</td>\n",
       "    </tr>\n",
       "    <tr>\n",
       "      <th>3</th>\n",
       "      <td>ホノルルクッキーカンパニー</td>\n",
       "      <td>ホノルルの定番のお土産が買える場所</td>\n",
       "      <td>21.273563</td>\n",
       "      <td>-157.823258</td>\n",
       "      <td>cadetblue</td>\n",
       "    </tr>\n",
       "    <tr>\n",
       "      <th>4</th>\n",
       "      <td>マツモトシェイブアイス</td>\n",
       "      <td>ホノルルで人気なかき氷屋さん</td>\n",
       "      <td>21.591288</td>\n",
       "      <td>-158.102785</td>\n",
       "      <td>green</td>\n",
       "    </tr>\n",
       "    <tr>\n",
       "      <th>5</th>\n",
       "      <td>ケアワウラビーチ</td>\n",
       "      <td>行って綺麗だった海</td>\n",
       "      <td>21.556320</td>\n",
       "      <td>-158.240869</td>\n",
       "      <td>darkred</td>\n",
       "    </tr>\n",
       "  </tbody>\n",
       "</table>\n",
       "</div>"
      ],
      "text/plain": [
       "              name                description   latitude   longitude  \\\n",
       "0  アラモアナショッピングセンター  この中にあるウルフギャングステーキハウスが美味しい  21.291945 -157.843517   \n",
       "1     ハイアットリージェンシー               いつも宿泊しているホテル  21.279277 -157.826200   \n",
       "2     チーズケーキファクトリー             一番好きなチーズケーキ屋さん  21.277837 -157.827771   \n",
       "3    ホノルルクッキーカンパニー          ホノルルの定番のお土産が買える場所  21.273563 -157.823258   \n",
       "4      マツモトシェイブアイス             ホノルルで人気なかき氷屋さん  21.591288 -158.102785   \n",
       "5         ケアワウラビーチ                  行って綺麗だった海  21.556320 -158.240869   \n",
       "\n",
       "       color  \n",
       "0      green  \n",
       "1    darkred  \n",
       "2      green  \n",
       "3  cadetblue  \n",
       "4      green  \n",
       "5    darkred  "
      ]
     },
     "execution_count": 4,
     "metadata": {},
     "output_type": "execute_result"
    }
   ],
   "source": [
    "df"
   ]
  },
  {
   "cell_type": "code",
   "execution_count": 17,
   "metadata": {},
   "outputs": [],
   "source": [
    "#ホノルルでの思い出\n",
    "\n",
    "c_lat=21.310073437522004\n",
    "c_lon=-157.85762749790413\n",
    "\n",
    "m = folium.Map(location=[c_lat,c_lon], zoom_start=10)\n",
    "\n",
    "for index, row in df.iterrows():\n",
    "    latlon = [row['latitude'],row['longitude']]\n",
    "    folium.Marker(latlon, \n",
    "                  popup='<div style=\"width:350px\">'+row['description']+'</div>', \n",
    "                  tooltip=row['name'],\n",
    "                  icon=folium.Icon(color=row['color']\n",
    "                )).add_to(m)\n",
    "\n",
    "m\n",
    "\n",
    "m.save(\"map.html\")"
   ]
  }
 ],
 "metadata": {
  "kernelspec": {
   "display_name": "gis",
   "language": "python",
   "name": "python3"
  },
  "language_info": {
   "codemirror_mode": {
    "name": "ipython",
    "version": 3
   },
   "file_extension": ".py",
   "mimetype": "text/x-python",
   "name": "python",
   "nbconvert_exporter": "python",
   "pygments_lexer": "ipython3",
   "version": "3.11.9"
  }
 },
 "nbformat": 4,
 "nbformat_minor": 2
}
