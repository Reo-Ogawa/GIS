{
 "cells": [
  {
   "cell_type": "code",
   "execution_count": 6,
   "metadata": {},
   "outputs": [],
   "source": [
    "import folium"
   ]
  },
  {
   "cell_type": "markdown",
   "metadata": {},
   "source": [
    "#ハワイ旅行で行ったおすすめの場所"
   ]
  },
  {
   "cell_type": "code",
   "execution_count": 8,
   "metadata": {},
   "outputs": [],
   "source": [
    "m=folium.Map([21.310073437522004, -157.85762749790413],zoom_start=9)\n",
    "\n",
    "folium.Marker(\n",
    "    #ピンを指したい座標を入れる\n",
    "    location=[21.291944632582236, -157.84351656342798],\n",
    "    tooltip=\"ここに美味しいステーキハウスがある\",\n",
    "    #施設の名称等を入れる\n",
    "    popup=\"アラモアナショッピングセンター\",\n",
    "    #アイコンを選択する\n",
    "    icon=folium.Icon(icon=\"cloud\"),\n",
    ").add_to(m)\n",
    "\n",
    "folium.Marker(\n",
    "    #ピンを指したい座標を入れる\n",
    "    location=[21.279277357311898, -157.82620039626642],\n",
    "    tooltip=\"宿泊場所\",\n",
    "    #施設の名称等を入れる\n",
    "    popup=\"ハイアットリージェンシー\",\n",
    "    #アイコンを選択する\n",
    "    icon=folium.Icon(icon=\"cloud\"),\n",
    ").add_to(m)\n",
    "\n",
    "folium.Marker(\n",
    "    #ピンを指したい座標を入れる\n",
    "    location=[21.277836612346714, -157.82777127499747],\n",
    "    tooltip=\"好きなチーズケーキ屋さん\",\n",
    "    #施設の名称等を入れる\n",
    "    popup=\"チーズケーキファクトリー\",\n",
    "    #アイコンを選択する\n",
    "    icon=folium.Icon(icon=\"cloud\"),\n",
    ").add_to(m)\n",
    "\n",
    "folium.Marker(\n",
    "    #ピンを指したい座標を入れる\n",
    "    location=[21.273563082510222, -157.82325751547785],\n",
    "    tooltip=\"定番のお土産やさん\",\n",
    "    #施設の名称等を入れる\n",
    "    popup=\"ホノルルクッキーカンパニー\",\n",
    "    #アイコンを選択する\n",
    "    icon=folium.Icon(icon=\"cloud\"),\n",
    ").add_to(m)\n",
    "\n",
    "folium.Marker(\n",
    "    #ピンを指したい座標を入れる\n",
    "    location=[21.591288112866035, -158.10278491090517],\n",
    "    tooltip=\"かき氷を食べたいならここ\",\n",
    "    #施設の名称等を入れる\n",
    "    popup=\"マツモトシェイブアイス\",\n",
    "    #アイコンを選択する\n",
    "    icon=folium.Icon(icon=\"cloud\"),\n",
    ").add_to(m)\n",
    "\n",
    "folium.Marker(\n",
    "    #ピンを指したい座標を入れる\n",
    "    location=[21.556319705356096, -158.24086892112157],\n",
    "    tooltip=\"綺麗だった海\",\n",
    "    #施設の名称等を入れる\n",
    "    popup=\"ケアワウラビーチ\",\n",
    "    #アイコンを選択する\n",
    "    icon=folium.Icon(icon=\"cloud\"),\n",
    ").add_to(m)\n",
    "\n",
    "m\n",
    "\n",
    "m.save(\"map.html\")"
   ]
  }
 ],
 "metadata": {
  "kernelspec": {
   "display_name": "gis",
   "language": "python",
   "name": "python3"
  },
  "language_info": {
   "codemirror_mode": {
    "name": "ipython",
    "version": 3
   },
   "file_extension": ".py",
   "mimetype": "text/x-python",
   "name": "python",
   "nbconvert_exporter": "python",
   "pygments_lexer": "ipython3",
   "version": "3.11.9"
  }
 },
 "nbformat": 4,
 "nbformat_minor": 2
}
