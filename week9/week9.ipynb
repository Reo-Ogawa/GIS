{
 "cells": [
  {
   "cell_type": "code",
   "execution_count": 2,
   "metadata": {},
   "outputs": [],
   "source": [
    "import pandas as pd\n",
    "import folium\n",
    "from geopy.geocoders import Nominatim\n",
    "\n",
    "\n",
    "file_path = 'japan_prefectures_cities.csv'  \n",
    "df = pd.read_csv(file_path)\n",
    "\n",
    "\n",
    "geolocator = Nominatim(user_agent=\"geoapiExercises\")\n",
    "locations = []\n",
    "\n",
    "for index, row in df.iterrows():\n",
    "    location = geolocator.geocode(row['市町村'])\n",
    "    if location:\n",
    "        locations.append({'市町村': row['市町村'], 'latitude': location.latitude, 'longitude': location.longitude})\n",
    "\n",
    "\n",
    "locations_df = pd.DataFrame(locations)\n",
    "\n",
    "\n",
    "m = folium.Map(location=[35.6895, 139.6917], zoom_start=5)  \n",
    "\n",
    "\n",
    "for index, row in locations_df.iterrows():\n",
    "    folium.Marker(\n",
    "        location=[row['latitude'], row['longitude']],\n",
    "        popup=row['市町村']\n",
    "    ).add_to(m)\n",
    "\n",
    "\n",
    "m.save('municipalities_map.html')\n"
   ]
  }
 ],
 "metadata": {
  "kernelspec": {
   "display_name": "gis",
   "language": "python",
   "name": "python3"
  },
  "language_info": {
   "codemirror_mode": {
    "name": "ipython",
    "version": 3
   },
   "file_extension": ".py",
   "mimetype": "text/x-python",
   "name": "python",
   "nbconvert_exporter": "python",
   "pygments_lexer": "ipython3",
   "version": "3.11.9"
  }
 },
 "nbformat": 4,
 "nbformat_minor": 2
}
